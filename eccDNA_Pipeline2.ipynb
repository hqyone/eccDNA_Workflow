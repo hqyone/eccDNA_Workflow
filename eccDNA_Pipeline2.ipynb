{
 "cells": [
  {
   "cell_type": "code",
   "execution_count": 7,
   "metadata": {},
   "outputs": [],
   "source": [
    "import pysam\n",
    "import os\n",
    "import re"
   ]
  },
  {
   "cell_type": "code",
   "execution_count": 8,
   "metadata": {},
   "outputs": [],
   "source": [
    "class paired_read:\n",
    "    def __init__(self, read):\n",
    "        self.read_name=read.query_name\n",
    "        self.reads=list()\n",
    "        self.reads.append(read)\n",
    "        \n",
    "    def add_read(self, read):\n",
    "        if self.read_name==read.query_name:\n",
    "            self.reads.append(read)\n",
    "    \n",
    "    def is_junctsite_paired_read(self):\n",
    "        return len(self.reads)==3"
   ]
  },
  {
   "cell_type": "code",
   "execution_count": 26,
   "metadata": {},
   "outputs": [],
   "source": [
    "class DNAEnd:\n",
    "    def __init__(self, chr, pos:int, direct):\n",
    "        self.chr=chr\n",
    "        self.pos=pos\n",
    "        self.direct = direct\n",
    "    \n",
    "    def get_id(self):\n",
    "        return(f\"{self.chr}_{self.pos}_{self.direct}\")\n",
    "    \n",
    "    def is_equal(self, new_end):\n",
    "        return self.chr==new_end.chr and self.pos==new_end.pos and self.direct==new_end.direct\n",
    "\n",
    "# The junction site only defined the \n",
    "class JunctionSite:\n",
    "    def __init__(self, end1:DNAEnd, end2:DNAEnd):\n",
    "        self.end1 = end1\n",
    "        self.end2 = end2\n",
    "\n",
    "    def get_id(self):\n",
    "        a = [self.end1.get_id(), self.end2.get_id()]\n",
    "        a.sort()\n",
    "        return (\"#\".join(a))\n",
    "\n",
    "\n",
    "        \n",
    "\n",
    "        "
   ]
  },
  {
   "cell_type": "code",
   "execution_count": 14,
   "metadata": {},
   "outputs": [
    {
     "name": "stdout",
     "output_type": "stream",
     "text": [
      "chr12_93455748_+#chr12_93455752_-\n"
     ]
    }
   ],
   "source": [
    "# example junction site\n",
    "end1 = DNAEnd(\"chr12\",93455748,\"+\")\n",
    "end2 = DNAEnd(\"chr12\",93455752,\"-\")\n",
    "js1= JunctionSite(end1, end2)\n",
    "print(js1.get_id())"
   ]
  },
  {
   "cell_type": "code",
   "execution_count": 15,
   "metadata": {},
   "outputs": [],
   "source": [
    "# Analyis the read to return key information about junction site\n",
    "# s_len: the length of the mismatched region\n",
    "# m_len: the length of match region\n",
    "# end_type: sm/ms\n",
    "# DNEEnd object based on read type\n",
    "def get_end_infor_by_alignment(read):\n",
    "    m=re.match(r\"^(\\d+)[S](\\d+)M$\",read.cigarstring)\n",
    "    n=re.match(r\"^(\\d+)M(\\d+)[S]$\",read.cigarstring)\n",
    "    if m:\n",
    "        s_len = int(m.groups(0)[0])\n",
    "        m_len = int(m.groups(0)[1])\n",
    "        end_type = \"sm\"\n",
    "        return ([s_len,m_len,end_type,DNAEnd(read.reference_name,read.reference_start,\"+\")])\n",
    "    elif n:\n",
    "        s_len = int(n.groups(0)[1])\n",
    "        m_len = int(n.groups(0)[0])\n",
    "        end_type = \"ms\"\n",
    "        return ([s_len,m_len,end_type,DNAEnd(read.reference_name,read.reference_start+int(n.groups(0)[0]),\"-\")])\n",
    "    else:\n",
    "        return ([None,None,None,None])\n",
    "\n",
    "# In general, there are three alignments for one paired read \n",
    "# In which two alignments from one read can be used to predect the two ends\n",
    "# these two alignments usually have the same next_reference_start\n",
    "# The third one is the alignment of the other read\n",
    "# As the alignment in sam file already on the + strand, \n",
    "# it doesn't matter wheter joinsite is in read1/read2 or is reverse or not\n",
    "def create_junction_site_by_read_list(read_ls):\n",
    "    if (len(read_ls)!=3): ([None,None])\n",
    "    # get the nojs_read location\n",
    "    next_location_ls=[]\n",
    "    nojs_read_loc=-1\n",
    "    for read in read_ls:\n",
    "        if read.next_reference_start in next_location_ls:\n",
    "            nojs_read_loc = read.next_reference_start\n",
    "            break\n",
    "        else:\n",
    "            next_location_ls.append(read.next_reference_start)\n",
    "    if nojs_read_loc==-1:\n",
    "        return ([None,None,None])\n",
    "    # split the js_read and nojs_read\n",
    "    js_read=[]  #usually containing two alignments\n",
    "    nojs_read=[] #only containing one alignment\n",
    "    for read in read_ls:\n",
    "        if read.reference_start==nojs_read_loc:\n",
    "            nojs_read.append(read)\n",
    "        else:\n",
    "            js_read.append(read)\n",
    "    if len(js_read)!=2:\n",
    "        return ([None,None,None])\n",
    "    else:\n",
    "        # sort list by reference start loc to fix the order of\n",
    "        js_read = sorted(js_read, key=lambda x: x.reference_start)             \n",
    "    # predict the end type\n",
    "    [s_len_1,m_len_1,end_type_1,end1]=get_end_infor_by_alignment(js_read[0])\n",
    "    [s_len_2,m_len_2,end_type_2,end2]=get_end_infor_by_alignment(js_read[1])\n",
    "    is_read1 = js_read[0].is_read1\n",
    "    if (end1 and end2):\n",
    "        # In many cases the junction site may have some bases so the alignments may overlap in these regions\n",
    "        # junctionsite read ---ATXXXXGC--- \n",
    "        # alignment to two genome locus: ---ATXXXX---, locs: ---XXXXGC--- , \n",
    "        # The sigar1:---6M2S---, sigar2: ---2S6M--- , \n",
    "        # The overlap_base_num here is 4\n",
    "        # Only modify the first end object to correct the overlap\n",
    "        overlap_bases_num = m_len_2-s_len_1\n",
    "        if end_type_1==\"sm\":\n",
    "            end1.pos+=overlap_bases_num\n",
    "        elif end_type_1==\"ms\":\n",
    "            end1.pos-=overlap_bases_num\n",
    "        return ([is_read1, JunctionSite(end1,end2),overlap_bases_num])\n",
    "    else:\n",
    "        return ([None,None,None])\n",
    "\n",
    "# [is_read1, junction_site] = create_junction_site_by_read_list(cur_paired_read_ls[0].reads)\n",
    "# print(junction_site.get_id())"
   ]
  },
  {
   "cell_type": "code",
   "execution_count": 16,
   "metadata": {},
   "outputs": [],
   "source": [
    "def sam_to_junction_site_dic(bam, max_alignment_num=100000):\n",
    "    BAM = pysam.AlignmentFile(bam, 'rb')\n",
    "    cur_read_name=\"\"\n",
    "    junction_site_dic = {}\n",
    "    cur_paired_read = None\n",
    "    alignment_idx=0\n",
    "    for read in BAM:\n",
    "        alignment_idx+=1\n",
    "        if max_alignment_num<=0 or alignment_idx<max_alignment_num:\n",
    "            if cur_read_name==\"\":\n",
    "                cur_paired_read=paired_read(read)\n",
    "            elif cur_read_name != read.query_name:\n",
    "                # new paired reads\n",
    "                if cur_paired_read.is_junctsite_paired_read():\n",
    "                    [is_read1, junction_site,overlap_bases_num] = create_junction_site_by_read_list(cur_paired_read.reads)\n",
    "                    if junction_site:\n",
    "                        js_site_id = junction_site.get_id()\n",
    "                        if js_site_id not in junction_site_dic.keys():\n",
    "                            junction_site_dic[js_site_id] = {\"junction_site\": junction_site, \"read1\": 0, \"read2\": 0, \"overlap_bp\":overlap_bases_num}\n",
    "                        if is_read1:\n",
    "                            junction_site_dic[js_site_id][\"read1\"]+=1\n",
    "                        else:\n",
    "                            junction_site_dic[js_site_id][\"read2\"]+=1\n",
    "                cur_paired_read=paired_read(read)\n",
    "            else:\n",
    "                cur_paired_read.add_read(read)\n",
    "            cur_read_name = read.query_name\n",
    "        else:\n",
    "            break\n",
    "    # For the last paired_read\n",
    "    if cur_paired_read and cur_paired_read.is_junctsite_paired_read():\n",
    "        [is_read1, junction_site, overlap_bases_num] = create_junction_site_by_read_list(cur_paired_read.reads)\n",
    "        if junction_site:\n",
    "            js_site_id = junction_site.get_id()\n",
    "            if js_site_id not in junction_site_dic.keys():\n",
    "                junction_site_dic[js_site_id] = {\"junction_site\": junction_site, \"read1\": 0, \"read2\": 0, \"overlap_bp\":overlap_bases_num}\n",
    "            if is_read1:\n",
    "                junction_site_dic[js_site_id][\"read1\"]+=1\n",
    "            else:\n",
    "                junction_site_dic[js_site_id][\"read2\"]+=1\n",
    "    return (junction_site_dic) \n",
    "\n",
    "\n",
    "def get_eccDNA_type_by_junctionsite(junction_site, max_single_eccDNA_length=1000000):\n",
    "    if junction_site.end1.chr==junction_site.end2.chr:\n",
    "        if (abs(junction_site.end1.pos-junction_site.end1.pos)<max_single_eccDNA_length):\n",
    "            if (junction_site.end1.pos<junction_site.end2.pos and junction_site.end1.direct==\"+\" and junction_site.end2.direct==\"-\"):\n",
    "                return(\"single_eccDNA\")\n",
    "            if (junction_site.end2.pos<junction_site.end1.pos and junction_site.end2.direct==\"+\" and junction_site.end1.direct==\"-\"):\n",
    "                return(\"single_eccDNA\")\n",
    "            return(\"in_chr_unknown\")\n",
    "        else:\n",
    "            return(\"in_chr_unknown\")\n",
    "    else:\n",
    "        return(\"across_chr\")\n",
    "    \n",
    "def get_eccDNA_region_by_junctionsite(junction_site):\n",
    "    if get_eccDNA_type_by_junctionsite(junction_site)==\"single_eccDNA\":\n",
    "        ecc_length=abs(junction_site.end1.pos-junction_site.end2.pos)+1\n",
    "        if (junction_site.end1.pos<junction_site.end2.pos and junction_site.end1.direct==\"+\" and junction_site.end2.direct==\"-\"):\n",
    "            return(f\"{junction_site.end1.chr},{junction_site.end1.pos},{junction_site.end2.pos}\")\n",
    "        if (junction_site.end2.pos<junction_site.end1.pos and junction_site.end2.direct==\"+\" and junction_site.end1.direct==\"-\"):\n",
    "            return(f\"{junction_site.end1.chr},{junction_site.end2.pos},{junction_site.end1.pos}\")\n",
    "    else:\n",
    "        return \"-\"\n",
    "\n",
    "# # bam = \"/home/hqyone/mnt/2tb/eccDNA/data-raw/test.bam\"\n",
    "# bam = \"/home/hqyone/mnt/2tb/eccDNA/data-final/eccdna/D21010704/bam/D21010704_hg38_sort_du_byname.bam\"\n",
    "\n",
    "# junction_site_dic = sam_to_junction_site_dic(bam, max_alignment_num=0)\n",
    "\n",
    "# #print junction_site_dic to file\n",
    "# output = \"/home/hqyone/mnt/2tb/eccDNA/data-final/eccdna/D21010704/bam/D21010704_junction_site.csv\"\n",
    "# eccBed = \"/home/hqyone/mnt/2tb/eccDNA/data-final/eccdna/D21010704/bam/D21010704_ecc.bed\"\n",
    "# with open(output,'w') as OUT, open(eccBed,'w') as BED:\n",
    "#     OUT.write(f\"id\\tread1\\tread2\\tecc_type\\tecc_region\\toverlap_bases_num\\n\")\n",
    "#     for js_key in junction_site_dic.keys():\n",
    "#         js_infor = junction_site_dic[js_key]\n",
    "#         js_obj = js_infor[\"junction_site\"]\n",
    "#         read1 = js_infor[\"read1\"]\n",
    "#         read2 = js_infor[\"read2\"]\n",
    "#         ecc_type = get_eccDNA_type_by_junctionsite(js_obj)\n",
    "#         ecc_region = get_eccDNA_region_by_junctionsite(js_obj)\n",
    "#         overlap_bases_num = js_infor[\"overlap_bp\"]\n",
    "#         if (read1+read2>500):\n",
    "#             OUT.write(f\"{js_key}\\t{read1}\\t{read2}\\t{ecc_type}\\t{ecc_region}\\t{overlap_bases_num}\\n\")\n",
    "#             if (ecc_type ==\"single_eccDNA\"):\n",
    "#                 BED.write(ecc_region.replace(\",\",\"\\t\")+\"\\t\"+js_key+\"\\t\"+str(read1+read2)+\"\\t+\\n\")\n",
    "        \n",
    "        "
   ]
  },
  {
   "cell_type": "code",
   "execution_count": 19,
   "metadata": {},
   "outputs": [],
   "source": [
    "def process_bam_file(bam, outcsv, eccBed, min_support_read_num=300):\n",
    "    junction_site_dic = sam_to_junction_site_dic(bam, max_alignment_num=0)\n",
    "    with open(outcsv,'w') as OUT, open(eccBed,'w') as BED:\n",
    "        OUT.write(f\"id\\tread1\\tread2\\tecc_type\\tecc_region\\toverlap_bases_num\\n\")\n",
    "        for js_key in junction_site_dic.keys():\n",
    "            js_infor = junction_site_dic[js_key]\n",
    "            js_obj = js_infor[\"junction_site\"]\n",
    "            read1 = js_infor[\"read1\"]\n",
    "            read2 = js_infor[\"read2\"]\n",
    "            ecc_type = get_eccDNA_type_by_junctionsite(js_obj)\n",
    "            ecc_region = get_eccDNA_region_by_junctionsite(js_obj)\n",
    "            overlap_bases_num = js_infor[\"overlap_bp\"]\n",
    "            if (read1+read2>min_support_read_num):\n",
    "                OUT.write(f\"{js_key}\\t{read1}\\t{read2}\\t{ecc_type}\\t{ecc_region}\\t{overlap_bases_num}\\n\")\n",
    "                if (ecc_type ==\"single_eccDNA\"):\n",
    "                    BED.write(ecc_region.replace(\",\",\"\\t\")+\"\\t\"+js_key+\"\\t\"+str(read1+read2)+\"\\t+\\n\")\n",
    "\n",
    "\n",
    "def process_bam_files(bam_ls, output_dir):\n",
    "    for bam in bam_ls:\n",
    "        id =bam.split(\"/\")[-3]\n",
    "        print(id)\n",
    "        output_csv = f\"{output_dir}/{id}/{id}_junction_site.csv\"\n",
    "        output_bed = f\"{output_dir}/{id}/{id}_junction_ecc.bed\"\n",
    "        process_bam_file(bam, output_csv, output_bed,min_support_read_num=100)\n",
    "\n",
    "\n"
   ]
  },
  {
   "cell_type": "code",
   "execution_count": 20,
   "metadata": {},
   "outputs": [
    {
     "name": "stdout",
     "output_type": "stream",
     "text": [
      "D21010704\n"
     ]
    },
    {
     "name": "stderr",
     "output_type": "stream",
     "text": [
      "[E::hts_idx_load3] Could not load local index file '/home/hqyone/mnt/2tb/eccDNA/data-final/eccdna/D21010704/bam/D21010704_hg38_sort_du_byname.bam.bai' : No such file or directory\n"
     ]
    },
    {
     "name": "stdout",
     "output_type": "stream",
     "text": [
      "D21010705\n"
     ]
    },
    {
     "name": "stderr",
     "output_type": "stream",
     "text": [
      "[E::hts_idx_load3] Could not load local index file '/home/hqyone/mnt/2tb/eccDNA/data-final/eccdna/D21010705/bam/D21010705_hg38_sort_du_byname.bam.bai' : No such file or directory\n"
     ]
    },
    {
     "name": "stdout",
     "output_type": "stream",
     "text": [
      "D21010706\n"
     ]
    },
    {
     "name": "stderr",
     "output_type": "stream",
     "text": [
      "[E::hts_idx_load3] Could not load local index file '/home/hqyone/mnt/2tb/eccDNA/data-final/eccdna/D21010706/bam/D21010706_hg38_sort_du_byname.bam.bai' : No such file or directory\n"
     ]
    },
    {
     "name": "stdout",
     "output_type": "stream",
     "text": [
      "D21080848\n"
     ]
    },
    {
     "name": "stderr",
     "output_type": "stream",
     "text": [
      "[E::hts_idx_load3] Could not load local index file '/home/hqyone/mnt/2tb/eccDNA/data-final/eccdna/D21080848/bam/D21080848_hg38_sort_du_byname.bam.bai' : No such file or directory\n"
     ]
    },
    {
     "name": "stdout",
     "output_type": "stream",
     "text": [
      "D21080849\n"
     ]
    },
    {
     "name": "stderr",
     "output_type": "stream",
     "text": [
      "[E::hts_idx_load3] Could not load local index file '/home/hqyone/mnt/2tb/eccDNA/data-final/eccdna/D21080849/bam/D21080849_hg38_sort_du_byname.bam.bai' : No such file or directory\n"
     ]
    },
    {
     "name": "stdout",
     "output_type": "stream",
     "text": [
      "D21080850\n"
     ]
    },
    {
     "name": "stderr",
     "output_type": "stream",
     "text": [
      "[E::idx_find_and_load] Could not retrieve index file for '/home/hqyone/mnt/2tb/eccDNA/data-final/eccdna/D21080850/bam/D21080850_hg38_sort_du_byname.bam'\n"
     ]
    },
    {
     "name": "stdout",
     "output_type": "stream",
     "text": [
      "D21080851\n"
     ]
    },
    {
     "name": "stderr",
     "output_type": "stream",
     "text": [
      "[E::hts_idx_load3] Could not load local index file '/home/hqyone/mnt/2tb/eccDNA/data-final/eccdna/D21080851/bam/D21080851_hg38_sort_du_byname.bam.bai' : No such file or directory\n"
     ]
    },
    {
     "name": "stdout",
     "output_type": "stream",
     "text": [
      "D21080852\n"
     ]
    },
    {
     "name": "stderr",
     "output_type": "stream",
     "text": [
      "[E::hts_idx_load3] Could not load local index file '/home/hqyone/mnt/2tb/eccDNA/data-final/eccdna/D21080852/bam/D21080852_hg38_sort_du_byname.bam.bai' : No such file or directory\n"
     ]
    },
    {
     "name": "stdout",
     "output_type": "stream",
     "text": [
      "D21080853\n"
     ]
    },
    {
     "name": "stderr",
     "output_type": "stream",
     "text": [
      "[E::hts_idx_load3] Could not load local index file '/home/hqyone/mnt/2tb/eccDNA/data-final/eccdna/D21080853/bam/D21080853_hg38_sort_du_byname.bam.bai' : No such file or directory\n"
     ]
    },
    {
     "name": "stdout",
     "output_type": "stream",
     "text": [
      "D21080854\n"
     ]
    },
    {
     "name": "stderr",
     "output_type": "stream",
     "text": [
      "[E::hts_idx_load3] Could not load local index file '/home/hqyone/mnt/2tb/eccDNA/data-final/eccdna/D21080854/bam/D21080854_hg38_sort_du_byname.bam.bai' : No such file or directory\n"
     ]
    },
    {
     "name": "stdout",
     "output_type": "stream",
     "text": [
      "D21080855\n"
     ]
    },
    {
     "name": "stderr",
     "output_type": "stream",
     "text": [
      "[E::hts_idx_load3] Could not load local index file '/home/hqyone/mnt/2tb/eccDNA/data-final/eccdna/D21080855/bam/D21080855_hg38_sort_du_byname.bam.bai' : No such file or directory\n"
     ]
    },
    {
     "name": "stdout",
     "output_type": "stream",
     "text": [
      "D21080856\n"
     ]
    },
    {
     "name": "stderr",
     "output_type": "stream",
     "text": [
      "[E::hts_idx_load3] Could not load local index file '/home/hqyone/mnt/2tb/eccDNA/data-final/eccdna/D21080856/bam/D21080856_hg38_sort_du_byname.bam.bai' : No such file or directory\n"
     ]
    },
    {
     "name": "stdout",
     "output_type": "stream",
     "text": [
      "D21080857\n"
     ]
    },
    {
     "name": "stderr",
     "output_type": "stream",
     "text": [
      "[E::hts_idx_load3] Could not load local index file '/home/hqyone/mnt/2tb/eccDNA/data-final/eccdna/D21080857/bam/D21080857_hg38_sort_du_byname.bam.bai' : No such file or directory\n"
     ]
    },
    {
     "name": "stdout",
     "output_type": "stream",
     "text": [
      "D21080858\n"
     ]
    },
    {
     "name": "stderr",
     "output_type": "stream",
     "text": [
      "[E::hts_idx_load3] Could not load local index file '/home/hqyone/mnt/2tb/eccDNA/data-final/eccdna/D21080858/bam/D21080858_hg38_sort_du_byname.bam.bai' : No such file or directory\n"
     ]
    },
    {
     "name": "stdout",
     "output_type": "stream",
     "text": [
      "D21080859\n"
     ]
    },
    {
     "name": "stderr",
     "output_type": "stream",
     "text": [
      "[E::hts_idx_load3] Could not load local index file '/home/hqyone/mnt/2tb/eccDNA/data-final/eccdna/D21080859/bam/D21080859_hg38_sort_du_byname.bam.bai' : No such file or directory\n"
     ]
    },
    {
     "name": "stdout",
     "output_type": "stream",
     "text": [
      "D22040595\n"
     ]
    },
    {
     "name": "stderr",
     "output_type": "stream",
     "text": [
      "[E::idx_find_and_load] Could not retrieve index file for '/home/hqyone/mnt/2tb/eccDNA/data-final/eccdna/D22040595/bam/D22040595_hg38_sort_du_byname.bam'\n"
     ]
    },
    {
     "name": "stdout",
     "output_type": "stream",
     "text": [
      "D22040596\n"
     ]
    },
    {
     "name": "stderr",
     "output_type": "stream",
     "text": [
      "[E::idx_find_and_load] Could not retrieve index file for '/home/hqyone/mnt/2tb/eccDNA/data-final/eccdna/D22040596/bam/D22040596_hg38_sort_du_byname.bam'\n"
     ]
    },
    {
     "name": "stdout",
     "output_type": "stream",
     "text": [
      "D22040597\n"
     ]
    },
    {
     "name": "stderr",
     "output_type": "stream",
     "text": [
      "[E::idx_find_and_load] Could not retrieve index file for '/home/hqyone/mnt/2tb/eccDNA/data-final/eccdna/D22040597/bam/D22040597_hg38_sort_du_byname.bam'\n"
     ]
    },
    {
     "name": "stdout",
     "output_type": "stream",
     "text": [
      "D22040598\n"
     ]
    },
    {
     "name": "stderr",
     "output_type": "stream",
     "text": [
      "[E::idx_find_and_load] Could not retrieve index file for '/home/hqyone/mnt/2tb/eccDNA/data-final/eccdna/D22040598/bam/D22040598_hg38_sort_du_byname.bam'\n"
     ]
    },
    {
     "name": "stdout",
     "output_type": "stream",
     "text": [
      "D22040599\n"
     ]
    },
    {
     "name": "stderr",
     "output_type": "stream",
     "text": [
      "[E::idx_find_and_load] Could not retrieve index file for '/home/hqyone/mnt/2tb/eccDNA/data-final/eccdna/D22040599/bam/D22040599_hg38_sort_du_byname.bam'\n"
     ]
    },
    {
     "name": "stdout",
     "output_type": "stream",
     "text": [
      "D22040600\n"
     ]
    },
    {
     "name": "stderr",
     "output_type": "stream",
     "text": [
      "[E::idx_find_and_load] Could not retrieve index file for '/home/hqyone/mnt/2tb/eccDNA/data-final/eccdna/D22040600/bam/D22040600_hg38_sort_du_byname.bam'\n"
     ]
    },
    {
     "name": "stdout",
     "output_type": "stream",
     "text": [
      "D22040609\n"
     ]
    },
    {
     "name": "stderr",
     "output_type": "stream",
     "text": [
      "[E::idx_find_and_load] Could not retrieve index file for '/home/hqyone/mnt/2tb/eccDNA/data-final/eccdna/D22040609/bam/D22040609_hg38_sort_du_byname.bam'\n"
     ]
    },
    {
     "name": "stdout",
     "output_type": "stream",
     "text": [
      "D22040610\n"
     ]
    },
    {
     "name": "stderr",
     "output_type": "stream",
     "text": [
      "[E::idx_find_and_load] Could not retrieve index file for '/home/hqyone/mnt/2tb/eccDNA/data-final/eccdna/D22040610/bam/D22040610_hg38_sort_du_byname.bam'\n"
     ]
    },
    {
     "name": "stdout",
     "output_type": "stream",
     "text": [
      "D22040611\n"
     ]
    },
    {
     "name": "stderr",
     "output_type": "stream",
     "text": [
      "[E::idx_find_and_load] Could not retrieve index file for '/home/hqyone/mnt/2tb/eccDNA/data-final/eccdna/D22040611/bam/D22040611_hg38_sort_du_byname.bam'\n"
     ]
    },
    {
     "name": "stdout",
     "output_type": "stream",
     "text": [
      "test_sample_id\n"
     ]
    }
   ],
   "source": [
    "junction_site_lsimport glob\n",
    "output_dir=\"/home/hqyone/mnt/2tb/eccDNA/results/total\"\n",
    "path=\"/home/hqyone/mnt/2tb/eccDNA/data-final/eccdna\"  #input from the user \n",
    "bam_ls = glob.glob(f\"{path}/**/*_sort_du_byname.bam\", recursive=True)\n",
    "process_bam_files(bam_ls,output_dir)"
   ]
  },
  {
   "cell_type": "code",
   "execution_count": 32,
   "metadata": {},
   "outputs": [
    {
     "name": "stdout",
     "output_type": "stream",
     "text": [
      "chr12_133048519_+\n",
      "chr9_126376421_+\n",
      "chr9_126376860_-\n",
      "chr12_133048739_-\n",
      "chr12_133048519_+\n"
     ]
    }
   ],
   "source": [
    "\n",
    "\n",
    "def create_end_by_id(id):\n",
    "    [chr, pos, direct]=id.split(\"_\")\n",
    "    return(DNAEnd(chr, int(pos),direct))\n",
    "\n",
    "def isMatch(end1, end2, min_dist=10, max_distance=50000):\n",
    "    if end1.chr==end2.chr and end1.direct!=end2.direct:\n",
    "        dist = abs(end1.pos-end2.pos+1)\n",
    "        if (dist>min_dist and dist<max_distance):\n",
    "            return True\n",
    "    return False\n",
    "\n",
    "def search_matched_junction_sites(start_DNAEnd, end_DNAEnd, junction_site_ls,out_list):\n",
    "    out_list.append(end_DNAEnd)\n",
    "    for site_id in junction_site_ls:\n",
    "        end1=create_end_by_id(site_id.split(\"#\")[0])\n",
    "        end2=create_end_by_id(site_id.split(\"#\")[1])\n",
    "        if (isMatch(end_DNAEnd, end1)):\n",
    "            out_list.append(end1)\n",
    "            if (not end1.is_equal(start_DNAEnd)):\n",
    "                search_matched_junction_sites(start_DNAEnd, end2,  junction_site_ls, out_list)\n",
    "        elif(isMatch(end_DNAEnd, end2)):\n",
    "            out_list.append(end2)\n",
    "            if (not end2.is_equal(start_DNAEnd)):\n",
    "                search_matched_junction_sites(start_DNAEnd, end1,  junction_site_ls, out_list)\n",
    "        \n",
    "start_js_site_id = \"chr12_133048519_+#chr9_126376421_+\"\n",
    "junction_site_ls = [\"chr12_133048519_+#chr9_126376421_+\", \"chr12_133048739_-#chr9_126376860_-\"]\n",
    "\n",
    "start_dna_end= create_end_by_id(start_js_site_id.split(\"#\")[0])\n",
    "next_dna_end= create_end_by_id(start_js_site_id.split(\"#\")[1])\n",
    "multple_region_eccDNA_ls=[start_dna_end]\n",
    "\n",
    "search_matched_junction_sites(start_dna_end, next_dna_end, junction_site_ls, multple_region_eccDNA_ls)\n",
    "for end in multple_region_eccDNA_ls:\n",
    "    print(end.get_id())\n",
    "\n",
    "# def search_multple_region_eccDNA(start_junction_site_id, junction_site_ls, multple_region_eccDNA_ls):\n",
    "#     start_dna_end= create_end_by_id(start_junction_site_id.split(\"#\")[0])\n",
    "#     next_dna_end= create_end_by_id(start_junction_site_id.split(\"#\")[1])\n",
    "#     for site_id in junction_site_ls:\n",
    "#         end1=create_end_by_id(site_id.split(\"#\")[0])\n",
    "#         end2=create_end_by_id(site_id.split(\"#\")[1])\n",
    "#         if (isMatch(next_dna_end, end1)){\n",
    "#             new_js_id = f\"{end1.get_id()}#{end2.get_id()}\"\n",
    "#             multple_region_eccDNA_ls.append(multple_region_eccDNA_ls.append(search_multple_region_eccDNA(),junction_site_ls))\n",
    "#         }elif(isMatch(next_dna_end, end2))\n",
    "#             new_js_id = f\"{end2.get_id()}#{end1.get_id()}\"\n",
    "#             multple_region_eccDNA_ls.append(multple_region_eccDNA_ls.append(search_multple_region_eccDNA(),junction_site_ls))\n",
    "\n",
    "\n",
    "# def search_downstream_junction_site()"
   ]
  },
  {
   "cell_type": "code",
   "execution_count": null,
   "metadata": {},
   "outputs": [],
   "source": []
  }
 ],
 "metadata": {
  "kernelspec": {
   "display_name": "eccdna",
   "language": "python",
   "name": "python3"
  },
  "language_info": {
   "codemirror_mode": {
    "name": "ipython",
    "version": 3
   },
   "file_extension": ".py",
   "mimetype": "text/x-python",
   "name": "python",
   "nbconvert_exporter": "python",
   "pygments_lexer": "ipython3",
   "version": "3.7.10"
  },
  "orig_nbformat": 4,
  "vscode": {
   "interpreter": {
    "hash": "ec813b8e3618d5ca9982a4080763ae6556e1b40d91e45213c1d0c1c82956fa9a"
   }
  }
 },
 "nbformat": 4,
 "nbformat_minor": 2
}
