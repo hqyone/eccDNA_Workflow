{
 "cells": [
  {
   "cell_type": "code",
   "execution_count": 1,
   "metadata": {},
   "outputs": [],
   "source": [
    "import os\n",
    "import pandas as pd;\n",
    "import matplotlib\n",
    "import matplotlib.pyplot as plt"
   ]
  },
  {
   "cell_type": "code",
   "execution_count": 32,
   "metadata": {},
   "outputs": [],
   "source": [
    "singleton=\"/media/hqyone/2tb1/eccDNA/GHS21010065/Sample_R21009037-1-D21010704/macs2/p_peaks.broadPeak.output\"\n",
    "\n",
    "s_df = pd.read_csv(singleton, sep=\"\\t\", header=None)\n",
    "s_df.columns=[\"hit\",\"left_reg\",\"left_reg_length\",\"right_reg\",\"right_reg_length\",\"chr\",\"start\",\"end\",\"length\",\"label\"]"
   ]
  },
  {
   "cell_type": "code",
   "execution_count": 33,
   "metadata": {},
   "outputs": [
    {
     "data": {
      "text/html": [
       "<div>\n",
       "<style scoped>\n",
       "    .dataframe tbody tr th:only-of-type {\n",
       "        vertical-align: middle;\n",
       "    }\n",
       "\n",
       "    .dataframe tbody tr th {\n",
       "        vertical-align: top;\n",
       "    }\n",
       "\n",
       "    .dataframe thead th {\n",
       "        text-align: right;\n",
       "    }\n",
       "</style>\n",
       "<table border=\"1\" class=\"dataframe\">\n",
       "  <thead>\n",
       "    <tr style=\"text-align: right;\">\n",
       "      <th></th>\n",
       "      <th>hit</th>\n",
       "      <th>left_reg</th>\n",
       "      <th>left_reg_length</th>\n",
       "      <th>right_reg</th>\n",
       "      <th>right_reg_length</th>\n",
       "      <th>chr</th>\n",
       "      <th>start</th>\n",
       "      <th>end</th>\n",
       "      <th>length</th>\n",
       "      <th>label</th>\n",
       "    </tr>\n",
       "  </thead>\n",
       "  <tbody>\n",
       "    <tr>\n",
       "      <td>0</td>\n",
       "      <td>chr7_30977678_-#chr7_30977329_+</td>\n",
       "      <td>chr7:30977327-30977678</td>\n",
       "      <td>5677</td>\n",
       "      <td>chr7:30977329-30977680</td>\n",
       "      <td>5676</td>\n",
       "      <td>chr7</td>\n",
       "      <td>30977329</td>\n",
       "      <td>30977678</td>\n",
       "      <td>349</td>\n",
       "      <td>chr7:30977329-30977678</td>\n",
       "    </tr>\n",
       "    <tr>\n",
       "      <td>1</td>\n",
       "      <td>chr8_60414791_-#chr8_60414219_+</td>\n",
       "      <td>chr8:60414218-60414791</td>\n",
       "      <td>42216</td>\n",
       "      <td>chr8:60414219-60415127</td>\n",
       "      <td>26675</td>\n",
       "      <td>chr8</td>\n",
       "      <td>60414219</td>\n",
       "      <td>60414791</td>\n",
       "      <td>572</td>\n",
       "      <td>chr8:60414219-60414791</td>\n",
       "    </tr>\n",
       "    <tr>\n",
       "      <td>2</td>\n",
       "      <td>chr16_27064448_-#chr16_27062954_+</td>\n",
       "      <td>chr16:27062951-27064448</td>\n",
       "      <td>14090</td>\n",
       "      <td>chr16:27062954-27064449</td>\n",
       "      <td>14108</td>\n",
       "      <td>chr16</td>\n",
       "      <td>27062954</td>\n",
       "      <td>27064448</td>\n",
       "      <td>1494</td>\n",
       "      <td>chr16:27062954-27064448</td>\n",
       "    </tr>\n",
       "    <tr>\n",
       "      <td>3</td>\n",
       "      <td>chr15_65609239_-#chr15_65608889_+</td>\n",
       "      <td>chr15:65608888-65609239</td>\n",
       "      <td>13330</td>\n",
       "      <td>chr15:65608889-65609251</td>\n",
       "      <td>12929</td>\n",
       "      <td>chr15</td>\n",
       "      <td>65608889</td>\n",
       "      <td>65609239</td>\n",
       "      <td>350</td>\n",
       "      <td>chr15:65608889-65609239</td>\n",
       "    </tr>\n",
       "    <tr>\n",
       "      <td>4</td>\n",
       "      <td>chr19_4643900_-#chr19_4643488_+</td>\n",
       "      <td>chr19:4643482-4643900</td>\n",
       "      <td>8457</td>\n",
       "      <td>chr19:4643488-4643903</td>\n",
       "      <td>8510</td>\n",
       "      <td>chr19</td>\n",
       "      <td>4643488</td>\n",
       "      <td>4643900</td>\n",
       "      <td>412</td>\n",
       "      <td>chr19:4643488-4643900</td>\n",
       "    </tr>\n",
       "  </tbody>\n",
       "</table>\n",
       "</div>"
      ],
      "text/plain": [
       "                                 hit                 left_reg  \\\n",
       "0    chr7_30977678_-#chr7_30977329_+   chr7:30977327-30977678   \n",
       "1    chr8_60414791_-#chr8_60414219_+   chr8:60414218-60414791   \n",
       "2  chr16_27064448_-#chr16_27062954_+  chr16:27062951-27064448   \n",
       "3  chr15_65609239_-#chr15_65608889_+  chr15:65608888-65609239   \n",
       "4    chr19_4643900_-#chr19_4643488_+    chr19:4643482-4643900   \n",
       "\n",
       "   left_reg_length                right_reg  right_reg_length    chr  \\\n",
       "0             5677   chr7:30977329-30977680              5676   chr7   \n",
       "1            42216   chr8:60414219-60415127             26675   chr8   \n",
       "2            14090  chr16:27062954-27064449             14108  chr16   \n",
       "3            13330  chr15:65608889-65609251             12929  chr15   \n",
       "4             8457    chr19:4643488-4643903              8510  chr19   \n",
       "\n",
       "      start       end  length                    label  \n",
       "0  30977329  30977678     349   chr7:30977329-30977678  \n",
       "1  60414219  60414791     572   chr8:60414219-60414791  \n",
       "2  27062954  27064448    1494  chr16:27062954-27064448  \n",
       "3  65608889  65609239     350  chr15:65608889-65609239  \n",
       "4   4643488   4643900     412    chr19:4643488-4643900  "
      ]
     },
     "execution_count": 33,
     "metadata": {},
     "output_type": "execute_result"
    }
   ],
   "source": [
    "s_df.head()"
   ]
  },
  {
   "cell_type": "code",
   "execution_count": 62,
   "metadata": {},
   "outputs": [
    {
     "name": "stdout",
     "output_type": "stream",
     "text": [
      "12363\n"
     ]
    },
    {
     "data": {
      "text/plain": [
       "Text(0, 0.5, 'number')"
      ]
     },
     "execution_count": 62,
     "metadata": {},
     "output_type": "execute_result"
    },
    {
     "data": {
      "image/png": "[encoded data removed]",
      "text/plain": [
       "<Figure size 432x288 with 1 Axes>"
      ]
     },
     "metadata": {
      "needs_background": "light"
     },
     "output_type": "display_data"
    }
   ],
   "source": [
    "print(len(s_df))\n",
    "ax =s_df.hist(column='length', bins=20, grid=False, color='blue', zorder=2, rwidth=0.9)[0][0]\n",
    "ax.tick_params(axis=\"both\", which=\"both\", bottom=\"off\", top=\"off\", labelbottom=\"on\", left=\"off\", right=\"off\", labelleft=\"on\")\n",
    "vals = ax.get_yticks()\n",
    "for tick in vals:\n",
    "    ax.axhline(y=tick, linestyle='dashed', alpha=0.4, color='#eeeeee', zorder=1)\n",
    "ax.set_title(\"eccDNA distribution (12363)\")\n",
    "ax.set_xlabel(\"legth (bp)\")\n",
    "ax.set_ylabel(\"number\")"
   ]
  },
  {
   "cell_type": "code",
   "execution_count": 59,
   "metadata": {},
   "outputs": [
    {
     "name": "stdout",
     "output_type": "stream",
     "text": [
      "12363\n"
     ]
    },
    {
     "data": {
      "text/plain": [
       "Text(0, 0.5, 'number')"
      ]
     },
     "execution_count": 59,
     "metadata": {},
     "output_type": "execute_result"
    },
    {
     "data": {
      "image/png": "[encoded data removed]",
      "text/plain": [
       "<Figure size 432x288 with 1 Axes>"
      ]
     },
     "metadata": {
      "needs_background": "light"
     },
     "output_type": "display_data"
    }
   ],
   "source": [
    "ax =s_df.hist(column='right_reg_length', grid=False,color='#86bf91', zorder=2, rwidth=0.9)[0][0]\n",
    "print(len(s_df))\n",
    "ax.tick_params(axis=\"both\", which=\"both\", bottom=\"off\", top=\"off\", labelbottom=\"on\", left=\"off\", right=\"off\", labelleft=\"on\")\n",
    "ax.set_title(\"eccDNA copy number distribution\")\n",
    "ax.set_xlabel(\"copy number\")\n",
    "ax.set_ylabel(\"number\")"
   ]
  },
  {
   "cell_type": "code",
   "execution_count": 104,
   "metadata": {},
   "outputs": [
    {
     "name": "stdout",
     "output_type": "stream",
     "text": [
      "['chr1' 'chr10' 'chr11' 'chr12' 'chr13' 'chr14' 'chr15' 'chr16' 'chr17'\n",
      " 'chr18' 'chr19' 'chr2' 'chr20' 'chr21' 'chr22' 'chr3' 'chr4' 'chr5'\n",
      " 'chr6' 'chr7' 'chr8' 'chr9' 'chrX' 'chrY']\n",
      "[1516  461  642  996  313  371  297  463  271  154  207 1008  260  141\n",
      "  214  976  519  767  814  330  450  600  591    2]\n"
     ]
    },
    {
     "data": {
      "text/plain": [
       "Text(0, 0.5, 'Number')"
      ]
     },
     "execution_count": 104,
     "metadata": {},
     "output_type": "execute_result"
    },
    {
     "data": {
      "image/png": "[encoded data removed]",
      "text/plain": [
       "<Figure size 864x288 with 1 Axes>"
      ]
     },
     "metadata": {
      "needs_background": "light"
     },
     "output_type": "display_data"
    }
   ],
   "source": [
    "import matplotlib.pyplot as plt\n",
    "fig = plt.figure(figsize=(12,4))\n",
    "ax = fig.add_axes([0,0,1,1])\n",
    "\n",
    "a = s_df.groupby(by=['chr']).count()\n",
    "#print(a['hit'])\n",
    "print(a.index.values)\n",
    "print(a['hit'].values)\n",
    "\n",
    "ax.bar(a.index.values,a['hit'].values,width= 0.9)\n",
    "ax.set_title(\"ecDNA distribution\", fontsize=20)\n",
    "ax.set_xlabel(\"Chromosome\")\n",
    "ax.set_ylabel(\"Number\")"
   ]
  },
  {
   "cell_type": "code",
   "execution_count": null,
   "metadata": {},
   "outputs": [],
   "source": []
  }
 ],
 "metadata": {
  "kernelspec": {
   "display_name": "local-venv",
   "language": "python",
   "name": "local-venv"
  },
  "language_info": {
   "codemirror_mode": {
    "name": "ipython",
    "version": 3
   },
   "file_extension": ".py",
   "mimetype": "text/x-python",
   "name": "python",
   "nbconvert_exporter": "python",
   "pygments_lexer": "ipython3",
   "version": "3.7.10"
  }
 },
 "nbformat": 4,
 "nbformat_minor": 4
}
