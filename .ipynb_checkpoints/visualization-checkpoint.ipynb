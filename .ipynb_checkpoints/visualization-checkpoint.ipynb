{
 "cells": [
  {
   "cell_type": "code",
   "execution_count": null,
   "id": "auburn-cotton",
   "metadata": {},
   "outputs": [],
   "source": [
    "# draw cicular eccDNA\n",
    "# https://stackoverflow.com/questions/62706502/circular-visualization-in-python-with-piled-ranges"
   ]
  },
  {
   "cell_type": "code",
   "execution_count": null,
   "id": "thrown-saint",
   "metadata": {},
   "outputs": [],
   "source": [
    "# better circular visualization \n",
    "# https://cran.r-project.org/web/packages/BioCircos/vignettes/BioCircos.html\n",
    "# http://circos.ca/tutorials/images/large/"
   ]
  },
  {
   "cell_type": "code",
   "execution_count": null,
   "id": "particular-revolution",
   "metadata": {},
   "outputs": [],
   "source": [
    "# from nxviz import CircosPlot\n",
    "# import matplotlib.pyplot as plt"
   ]
  }
 ],
 "metadata": {
  "kernelspec": {
   "display_name": "Python 3",
   "language": "python",
   "name": "python3"
  },
  "language_info": {
   "codemirror_mode": {
    "name": "ipython",
    "version": 3
   },
   "file_extension": ".py",
   "mimetype": "text/x-python",
   "name": "python",
   "nbconvert_exporter": "python",
   "pygments_lexer": "ipython3",
   "version": "3.7.4"
  }
 },
 "nbformat": 4,
 "nbformat_minor": 5
}
