{
 "cells": [
  {
   "cell_type": "code",
   "execution_count": 8,
   "metadata": {},
   "outputs": [],
   "source": [
    "# search for boundary using bigwig and macs bed file\n",
    "import os, sys\n",
    "import pysam\n",
    "from pysam import AlignedSegment\n",
    "from source.junction_infor import JuncInfor, JuncSite, getJunctionInfor,JuncSite2\n",
    "from source.blast_tools import RunBLASTN\n",
    "from source.sam_tools import getJunSiteDic,JunSiteDicToFasta,BLASTNConsenseSeq,ParseBlastResult,annoSiteByBigWig3,printInteractionList\n",
    "\n",
    "complement = {'A': 'T', 'C': 'G', 'G': 'C', 'T': 'A', '-':'-'}\n",
    "def rc(seq):\n",
    "    return \"\".join(complement.get(base, base) for base in reversed(seq))"
   ]
  },
  {
   "cell_type": "code",
   "execution_count": 9,
   "metadata": {},
   "outputs": [],
   "source": [
    "# Input settings\n",
    "wdir = \"/media/hqyone/2tb/eccDNA/\"\n",
    "sample_bam = \"/home/hqyone/mnt/2tb/eccDNA/data-raw/GHS21030056/Sample_2-2/bam/Sample_2-2_lsort_du.bam\"\n",
    "bigwig_file = \"/home/hqyone/mnt/2tb/eccDNA/data-raw/GHS21030056/Sample_2-2/macs2/Sample_2-2.bigwig\" \n",
    "bed_file = \"/home/hqyone/mnt/2tb/eccDNA/data-raw/GHS21030056/Sample_2-2/macs2/p_peaks.broadPeak\"\n",
    "\n",
    "\n",
    "# Reference settings\n",
    "ref_fa = '/home/hqyone/mnt/2tb/eccDNA/genome/hg38_p13/GRCh38.p13.genome.fa'\n",
    "genome_size_file = \"/home/hqyone/mnt/2tb/eccDNA/genome/chrom_size/hg38.chrom.sizes\"\n"
   ]
  },
  {
   "source": [
    "# Output settings\n",
    "out_dir=\"/home/hqyone/mnt/2tb/eccDNA/data-raw/GHS21030056/Sample_2-2/eccDNA\"\n",
    "cons_fasta =out_dir+\"/cons.fa\"\n",
    "out_file=out_dir+\"/p_peaks.broadPeak.output\"\n",
    "bed_file=out_dir+\"/p_peaks.broadPeak.output.bed\"\n",
    "\n",
    "net_file=out_dir+\"/p_peaks.broadPeak.network\"\n",
    "node_file =out_dir+\"/p_peaks.broadPeak.node\"\n",
    "ecc_file =out_dir+\"/p_peaks.broadPeak.ecc\"\n"
   ],
   "cell_type": "code",
   "metadata": {},
   "execution_count": 10,
   "outputs": []
  },
  {
   "cell_type": "code",
   "execution_count": 11,
   "metadata": {},
   "outputs": [
    {
     "output_type": "error",
     "ename": "TypeError",
     "evalue": "getJunSiteDic() got an unexpected keyword argument 'test_read_num'",
     "traceback": [
      "\u001b[0;31m---------------------------------------------------------------------------\u001b[0m",
      "\u001b[0;31mTypeError\u001b[0m                                 Traceback (most recent call last)",
      "\u001b[0;32m<ipython-input-11-cc7e37593d2e>\u001b[0m in \u001b[0;36m<module>\u001b[0;34m\u001b[0m\n\u001b[0;32m----> 1\u001b[0;31m \u001b[0mjunc_site_dic\u001b[0m\u001b[0;34m=\u001b[0m\u001b[0mgetJunSiteDic\u001b[0m\u001b[0;34m(\u001b[0m\u001b[0msample_bam\u001b[0m\u001b[0;34m,\u001b[0m \u001b[0mtest_read_num\u001b[0m\u001b[0;34m=\u001b[0m\u001b[0;36m10000\u001b[0m\u001b[0;34m)\u001b[0m\u001b[0;34m\u001b[0m\u001b[0;34m\u001b[0m\u001b[0m\n\u001b[0m\u001b[1;32m      2\u001b[0m \u001b[0mJunSiteDicToFasta\u001b[0m\u001b[0;34m(\u001b[0m\u001b[0mjunc_site_dic\u001b[0m\u001b[0;34m,\u001b[0m \u001b[0mcons_fasta\u001b[0m\u001b[0;34m)\u001b[0m\u001b[0;34m\u001b[0m\u001b[0;34m\u001b[0m\u001b[0m\n\u001b[1;32m      3\u001b[0m \u001b[0mblast_out\u001b[0m \u001b[0;34m=\u001b[0m \u001b[0mBLASTNConsenseSeq\u001b[0m\u001b[0;34m(\u001b[0m\u001b[0;34m\"blastn\"\u001b[0m\u001b[0;34m,\u001b[0m\u001b[0;34m\"makeblastdb\"\u001b[0m\u001b[0;34m,\u001b[0m\u001b[0;34m\"test\"\u001b[0m\u001b[0;34m,\u001b[0m\u001b[0mref_fa\u001b[0m\u001b[0;34m,\u001b[0m\u001b[0mcons_fasta\u001b[0m\u001b[0;34m,\u001b[0m\u001b[0mout_dir\u001b[0m\u001b[0;34m)\u001b[0m\u001b[0;34m\u001b[0m\u001b[0;34m\u001b[0m\u001b[0m\n\u001b[1;32m      4\u001b[0m \u001b[0;34m(\u001b[0m\u001b[0msite_hit_dic\u001b[0m\u001b[0;34m,\u001b[0m \u001b[0mSite2_dic\u001b[0m\u001b[0;34m)\u001b[0m \u001b[0;34m=\u001b[0m \u001b[0mParseBlastResult\u001b[0m\u001b[0;34m(\u001b[0m\u001b[0mblast_out\u001b[0m\u001b[0;34m,\u001b[0m\u001b[0mjunc_site_dic\u001b[0m\u001b[0;34m)\u001b[0m\u001b[0;34m\u001b[0m\u001b[0;34m\u001b[0m\u001b[0m\n\u001b[1;32m      5\u001b[0m \u001b[0mint_ls\u001b[0m\u001b[0;34m=\u001b[0m \u001b[0mannoSiteByBigWig3\u001b[0m\u001b[0;34m(\u001b[0m\u001b[0mSite2_dic\u001b[0m\u001b[0;34m,\u001b[0m \u001b[0mgenome_size_file\u001b[0m\u001b[0;34m,\u001b[0m\u001b[0mbigwig_file\u001b[0m\u001b[0;34m,\u001b[0m \u001b[0mout_file\u001b[0m\u001b[0;34m,\u001b[0m\u001b[0mbed_file\u001b[0m\u001b[0;34m)\u001b[0m\u001b[0;34m\u001b[0m\u001b[0;34m\u001b[0m\u001b[0m\n",
      "\u001b[0;31mTypeError\u001b[0m: getJunSiteDic() got an unexpected keyword argument 'test_read_num'"
     ]
    }
   ],
   "source": [
    "junc_site_dic=getJunSiteDic(sample_bam, test_read_num=10000)\n",
    "JunSiteDicToFasta(junc_site_dic, cons_fasta)\n",
    "blast_out = BLASTNConsenseSeq(\"blastn\",\"makeblastdb\",\"test\",ref_fa,cons_fasta,out_dir)\n",
    "(site_hit_dic, Site2_dic) = ParseBlastResult(blast_out,junc_site_dic)\n",
    "int_ls= annoSiteByBigWig3(Site2_dic, genome_size_file,bigwig_file, out_file,bed_file)\n",
    "printInteractionList(int_ls,net_file, node_file, ecc_file)"
   ]
  },
  {
   "cell_type": "code",
   "execution_count": null,
   "metadata": {},
   "outputs": [],
   "source": []
  }
 ],
 "metadata": {
  "kernelspec": {
   "display_name": "local-venv",
   "language": "python",
   "name": "local-venv"
  },
  "language_info": {
   "codemirror_mode": {
    "name": "ipython",
    "version": 3
   },
   "file_extension": ".py",
   "mimetype": "text/x-python",
   "name": "python",
   "nbconvert_exporter": "python",
   "pygments_lexer": "ipython3",
   "version": "3.7.10"
  }
 },
 "nbformat": 4,
 "nbformat_minor": 2
}